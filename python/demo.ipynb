{
 "cells": [
  {
   "cell_type": "markdown",
   "id": "94269f6c",
   "metadata": {
    "notebookRunGroups": {
     "groupValue": "2"
    }
   },
   "source": [
    "question 1: \n",
    "\n",
    "write a python program to check prime number"
   ]
  },
  {
   "cell_type": "code",
   "execution_count": 10,
   "id": "1c083aed",
   "metadata": {},
   "outputs": [
    {
     "name": "stdout",
     "output_type": "stream",
     "text": [
      "not prime\n"
     ]
    }
   ],
   "source": [
    "def prime(n):\n",
    "    temp = 1\n",
    "    if n ==0 or n==1:\n",
    "        print(\"not a prime\")\n",
    "\n",
    "    elif n > 1:\n",
    "        for i in range(2,n):\n",
    "            if n%i == 0:\n",
    "                temp=0\n",
    "    if temp==0:\n",
    "        print(\"not prime\")\n",
    "    else:\n",
    "        print(\"prime\")\n",
    "    \n",
    "prime(n=21)"
   ]
  },
  {
   "cell_type": "markdown",
   "id": "ef09a264",
   "metadata": {},
   "source": [
    "question 2 :\n",
    "\n",
    "python program to find a factorial of a number"
   ]
  },
  {
   "cell_type": "code",
   "execution_count": 11,
   "id": "2730ea02",
   "metadata": {},
   "outputs": [
    {
     "data": {
      "text/plain": [
       "720"
      ]
     },
     "execution_count": 11,
     "metadata": {},
     "output_type": "execute_result"
    }
   ],
   "source": [
    "def fact(n):\n",
    "    if n==0 or n == 1:\n",
    "        return 1\n",
    "    else:\n",
    "        return n* fact(n-1)\n",
    "    \n",
    "fact(6)"
   ]
  },
  {
   "cell_type": "code",
   "execution_count": 12,
   "id": "781bfbe4",
   "metadata": {},
   "outputs": [
    {
     "name": "stdout",
     "output_type": "stream",
     "text": [
      "120\n"
     ]
    }
   ],
   "source": [
    "#  Using Recursion\n",
    "\n",
    "def factorial(n):\n",
    "    if n == 0 or n == 1:\n",
    "        return 1\n",
    "    return n * factorial(n - 1)\n",
    "\n",
    "print(factorial(5))  # Output: 120\n"
   ]
  },
  {
   "cell_type": "code",
   "execution_count": 13,
   "id": "df4a0abb",
   "metadata": {},
   "outputs": [
    {
     "name": "stdout",
     "output_type": "stream",
     "text": [
      "120\n"
     ]
    }
   ],
   "source": [
    "# using math.factorial\n",
    "\n",
    "import math\n",
    "\n",
    "print(math.factorial(5))  # Output: 120\n"
   ]
  },
  {
   "cell_type": "markdown",
   "id": "9a1c8c04",
   "metadata": {},
   "source": [
    "question 3 :\n",
    "\n",
    "write a python program for n-th fibonacci number"
   ]
  },
  {
   "cell_type": "code",
   "execution_count": 14,
   "id": "4a91189b",
   "metadata": {},
   "outputs": [
    {
     "name": "stdout",
     "output_type": "stream",
     "text": [
      "The 6th Fibonacci number is: 5\n"
     ]
    }
   ],
   "source": [
    "def fibonacci(n):\n",
    "    if n <= 0:\n",
    "        return \"Invalid input\"\n",
    "    elif n == 1:\n",
    "        return 0\n",
    "    elif n == 2:\n",
    "        return 1\n",
    "    return fibonacci(n - 1) + fibonacci(n - 2)\n",
    "\n",
    "n = 6\n",
    "print(f\"The {n}th Fibonacci number is: {fibonacci(n)}\")\n"
   ]
  },
  {
   "cell_type": "markdown",
   "id": "95866ef0",
   "metadata": {},
   "source": [
    "question 4 :\n",
    "\n",
    "python program for sum of squares of first n natural number\n"
   ]
  },
  {
   "cell_type": "code",
   "execution_count": 15,
   "id": "cefee2bc",
   "metadata": {},
   "outputs": [
    {
     "name": "stdout",
     "output_type": "stream",
     "text": [
      "14\n"
     ]
    }
   ],
   "source": [
    "def sum(n):\n",
    "    res = 0\n",
    "    if n == 0 :\n",
    "        print(\"not valid\")\n",
    "    else:\n",
    "        for i in range(1, n+1):\n",
    "            res += i*i\n",
    "            \n",
    "    print(res)\n",
    "sum(3)"
   ]
  },
  {
   "cell_type": "markdown",
   "id": "3645e865",
   "metadata": {},
   "source": [
    "question 5 :\n",
    "\n",
    "Armstrong number is a number that equal to the sum of its digits, each raised to the power od the number of digits in the number, for example 153 is an Armstrong number because 1^3 + 5^3 + 3^3 = 153\n"
   ]
  },
  {
   "cell_type": "code",
   "execution_count": 16,
   "id": "38a2878e",
   "metadata": {},
   "outputs": [
    {
     "ename": "TypeError",
     "evalue": "unsupported operand type(s) for +: 'generator' and 'int'",
     "output_type": "error",
     "traceback": [
      "\u001b[0;31m---------------------------------------------------------------------------\u001b[0m",
      "\u001b[0;31mTypeError\u001b[0m                                 Traceback (most recent call last)",
      "Cell \u001b[0;32mIn[16], line 12\u001b[0m\n\u001b[1;32m     10\u001b[0m \u001b[38;5;66;03m# Example usage\u001b[39;00m\n\u001b[1;32m     11\u001b[0m num \u001b[38;5;241m=\u001b[39m \u001b[38;5;241m153\u001b[39m\n\u001b[0;32m---> 12\u001b[0m \u001b[43marmstrong\u001b[49m\u001b[43m(\u001b[49m\u001b[43mnum\u001b[49m\u001b[43m)\u001b[49m\n",
      "Cell \u001b[0;32mIn[16], line 4\u001b[0m, in \u001b[0;36marmstrong\u001b[0;34m(n)\u001b[0m\n\u001b[1;32m      2\u001b[0m num_str \u001b[38;5;241m=\u001b[39m \u001b[38;5;28mstr\u001b[39m(n)\n\u001b[1;32m      3\u001b[0m power \u001b[38;5;241m=\u001b[39m \u001b[38;5;28mlen\u001b[39m(num_str)\n\u001b[0;32m----> 4\u001b[0m total \u001b[38;5;241m=\u001b[39m \u001b[38;5;28;43msum\u001b[39;49m\u001b[43m(\u001b[49m\u001b[38;5;28;43mint\u001b[39;49m\u001b[43m(\u001b[49m\u001b[43mdigit\u001b[49m\u001b[43m)\u001b[49m\u001b[43m \u001b[49m\u001b[38;5;241;43m*\u001b[39;49m\u001b[38;5;241;43m*\u001b[39;49m\u001b[43m \u001b[49m\u001b[43mpower\u001b[49m\u001b[43m \u001b[49m\u001b[38;5;28;43;01mfor\u001b[39;49;00m\u001b[43m \u001b[49m\u001b[43mdigit\u001b[49m\u001b[43m \u001b[49m\u001b[38;5;129;43;01min\u001b[39;49;00m\u001b[43m \u001b[49m\u001b[43mnum_str\u001b[49m\u001b[43m)\u001b[49m\n\u001b[1;32m      5\u001b[0m \u001b[38;5;28;01mif\u001b[39;00m total \u001b[38;5;241m==\u001b[39m n:\n\u001b[1;32m      6\u001b[0m     \u001b[38;5;28mprint\u001b[39m(\u001b[38;5;124mf\u001b[39m\u001b[38;5;124m\"\u001b[39m\u001b[38;5;132;01m{\u001b[39;00mn\u001b[38;5;132;01m}\u001b[39;00m\u001b[38;5;124m is an Armstrong number\u001b[39m\u001b[38;5;124m\"\u001b[39m)\n",
      "Cell \u001b[0;32mIn[15], line 6\u001b[0m, in \u001b[0;36msum\u001b[0;34m(n)\u001b[0m\n\u001b[1;32m      4\u001b[0m     \u001b[38;5;28mprint\u001b[39m(\u001b[38;5;124m\"\u001b[39m\u001b[38;5;124mnot valid\u001b[39m\u001b[38;5;124m\"\u001b[39m)\n\u001b[1;32m      5\u001b[0m \u001b[38;5;28;01melse\u001b[39;00m:\n\u001b[0;32m----> 6\u001b[0m     \u001b[38;5;28;01mfor\u001b[39;00m i \u001b[38;5;129;01min\u001b[39;00m \u001b[38;5;28mrange\u001b[39m(\u001b[38;5;241m1\u001b[39m, \u001b[43mn\u001b[49m\u001b[38;5;241;43m+\u001b[39;49m\u001b[38;5;241;43m1\u001b[39;49m):\n\u001b[1;32m      7\u001b[0m         res \u001b[38;5;241m+\u001b[39m\u001b[38;5;241m=\u001b[39m i\u001b[38;5;241m*\u001b[39mi\n\u001b[1;32m      9\u001b[0m \u001b[38;5;28mprint\u001b[39m(res)\n",
      "\u001b[0;31mTypeError\u001b[0m: unsupported operand type(s) for +: 'generator' and 'int'"
     ]
    }
   ],
   "source": [
    "def armstrong(n):\n",
    "    num_str = str(n)\n",
    "    power = len(num_str)\n",
    "    total = sum(int(digit) ** power for digit in num_str)\n",
    "    if total == n:\n",
    "        print(f\"{n} is an Armstrong number\")\n",
    "    else:\n",
    "        print(f\"{n} is not an Armstrong number\")\n",
    "\n",
    "# Example usage\n",
    "num = 153\n",
    "armstrong(num)\n"
   ]
  }
 ],
 "metadata": {
  "kernelspec": {
   "display_name": "Python 3",
   "language": "python",
   "name": "python3"
  },
  "language_info": {
   "codemirror_mode": {
    "name": "ipython",
    "version": 3
   },
   "file_extension": ".py",
   "mimetype": "text/x-python",
   "name": "python",
   "nbconvert_exporter": "python",
   "pygments_lexer": "ipython3",
   "version": "3.10.14"
  }
 },
 "nbformat": 4,
 "nbformat_minor": 5
}
